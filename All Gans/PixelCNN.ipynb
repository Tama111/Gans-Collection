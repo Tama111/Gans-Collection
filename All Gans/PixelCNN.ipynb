{
 "cells": [
  {
   "cell_type": "markdown",
   "id": "b85ca547",
   "metadata": {},
   "source": [
    "# PixelCNN\n",
    "\n",
    "This is an attempt to re-implement the paper pixelCNN\n",
    "\n",
    "Paper: https://arxiv.org/pdf/1606.05328.pdf\n",
    "\n",
    "Other Resources: \n",
    "* https://keras.io/examples/generative/pixelcnn/"
   ]
  },
  {
   "cell_type": "code",
   "execution_count": 49,
   "id": "01b24e10",
   "metadata": {},
   "outputs": [],
   "source": [
    "import numpy as np\n",
    "import matplotlib.pyplot as plt\n",
    "import tensorflow as tf\n",
    "import tensorflow_datasets as tfds"
   ]
  },
  {
   "cell_type": "code",
   "execution_count": 4,
   "id": "cdcc31fe",
   "metadata": {},
   "outputs": [],
   "source": [
    "(ds_train, ds_test), ds_info = tfds.load('mnist', \n",
    "                              split=['test', 'test'], \n",
    "                              shuffle_files=True,\n",
    "                              as_supervised=True,\n",
    "                              with_info=True)\n",
    "\n",
    "#fig = tfds.show_examples(ds_info, ds_train)\n",
    "\n",
    "def binarize(image, label):\n",
    "    image = tf.cast(image, tf.float32)\n",
    "    image = tf.math.round(image/255.)\n",
    "    return image, tf.cast(image, tf.int32)\n",
    "\n",
    "ds_train = ds_train.map(binarize)\n",
    "ds_train = ds_train.cache() # put dataset into memory\n",
    "ds_train = ds_train.shuffle(ds_info.splits['train'].num_examples)\n",
    "ds_train = ds_train.batch(64)\n",
    "ds_test = ds_test.map(binarize).batch(64).cache().prefetch(64)\n",
    "\n",
    "img_shape = next(iter(ds_train))[0].shape[1:]"
   ]
  },
  {
   "cell_type": "code",
   "execution_count": 34,
   "id": "f3132d3b",
   "metadata": {},
   "outputs": [],
   "source": [
    "class MaskedConv2D(tf.keras.layers.Layer):\n",
    "    def __init__(self, filters, kernel_size, strides = (1, 1), padding = 'SAME', mask_type = None, **kwargs):\n",
    "        super().__init__(**kwargs)\n",
    "        self.filters = filters\n",
    "        self.kernel_size = kernel_size\n",
    "        self.strides = strides\n",
    "        self.padding = padding.upper()\n",
    "        self.mask_type = mask_type\n",
    "        \n",
    "    def build(self, input_shape):\n",
    "        init = tf.keras.initializers.RandomNormal(mean = 0.0, stddev = 1.0)\n",
    "        self.kernel = self.add_weight(shape = self.kernel_size + (input_shape[-1], self.filters), initializer = init, \n",
    "                                      trainable = True, name = 'MaskedConv2D_kernel')\n",
    "        self.bias = self.add_weight(shape = (1, self.filters), initializer = 'zeros', \n",
    "                                    trainable = True, name = 'MaskedConv2D_bias')\n",
    "        \n",
    "        mask = np.ones(self.kernel_size[0]*self.kernel_size[1], dtype = np.float32)\n",
    "        center = len(mask)//2\n",
    "        mask[center + 1:] = 0\n",
    "        \n",
    "        if self.mask_type == 'A':\n",
    "            mask[center] = 0\n",
    "            \n",
    "        mask = mask.reshape((self.kernel_size[0], self.kernel_size[1], 1, 1))\n",
    "        self.mask = tf.constant(mask, dtype = tf.float32)\n",
    "        \n",
    "    def call(self, inputs):\n",
    "        masked_kernel = tf.multiply(self.kernel, self.mask)\n",
    "        out = tf.add(tf.nn.conv2d(inputs, masked_kernel, self.strides, self.padding), self.bias)\n",
    "        return out"
   ]
  },
  {
   "cell_type": "code",
   "execution_count": 35,
   "id": "d034a796",
   "metadata": {},
   "outputs": [],
   "source": [
    "class ResidualBlock(tf.keras.layers.Layer):\n",
    "    def __init__(self, filters, **kwargs):\n",
    "        super().__init__(**kwargs)\n",
    "        self.conv1 = tf.keras.layers.Conv2D(filters = filters, kernel_size = (1, 1), strides = (1, 1), padding = 'same')\n",
    "        self.relu1 = tf.keras.layers.ReLU()\n",
    "        \n",
    "        self.masked_conv = MaskedConv2D(filters = filters//2, kernel_size = (3, 3), strides = (1, 1), mask_type = 'B')\n",
    "        self.relu0 = tf.keras.layers.ReLU()\n",
    "        \n",
    "        self.conv2 = tf.keras.layers.Conv2D(filters = filters, kernel_size = (1, 1), strides = (1, 1), padding = 'same')\n",
    "        self.relu2 = tf.keras.layers.ReLU()\n",
    "        \n",
    "    def call(self, inputs):\n",
    "        x = self.relu1(self.conv1(inputs))\n",
    "        x = self.relu0(self.masked_conv(x))\n",
    "        x = self.relu2(self.conv2(x))\n",
    "        return tf.add(x, inputs)"
   ]
  },
  {
   "cell_type": "code",
   "execution_count": 36,
   "id": "6a13b100",
   "metadata": {},
   "outputs": [],
   "source": [
    "def build_model(num_res_block = 5):\n",
    "    inp = tf.keras.layers.Input(shape = (img_shape), dtype = tf.float32, name = 'pixel_cnn_input')\n",
    "    \n",
    "    x = MaskedConv2D(filters = 128, kernel_size = (7, 7), mask_type = 'A')(inp)\n",
    "    x = tf.keras.layers.ReLU()(x)\n",
    "    \n",
    "    for _ in range(num_res_block):\n",
    "        x = ResidualBlock(filters = 128)(x)\n",
    "    \n",
    "    for _ in range(2):\n",
    "        x = MaskedConv2D(filters = 128, kernel_size = (1, 1), strides = (1, 1), padding = 'valid', mask_type = 'B')(x)\n",
    "        x = tf.keras.layers.ReLU()(x)\n",
    "        \n",
    "    x = tf.keras.layers.Conv2D(filters = 1, kernel_size = (1, 1), strides = (1, 1), padding = 'valid')(x)\n",
    "    x = tf.keras.layers.Activation('sigmoid')(x)\n",
    "    \n",
    "    return tf.keras.models.Model(inp, x, name = 'PixelCNN')"
   ]
  },
  {
   "cell_type": "code",
   "execution_count": 47,
   "id": "7353893e",
   "metadata": {
    "scrolled": true
   },
   "outputs": [],
   "source": [
    "model = build_model()\n",
    "model.summary()"
   ]
  },
  {
   "cell_type": "code",
   "execution_count": 40,
   "id": "d39582f6",
   "metadata": {},
   "outputs": [],
   "source": [
    "model.compile(optimizer = tf.keras.optimizers.Adam(learning_rate = 0.0005), \n",
    "              loss = tf.keras.losses.BinaryCrossentropy())"
   ]
  },
  {
   "cell_type": "code",
   "execution_count": 42,
   "id": "76b69100",
   "metadata": {
    "scrolled": true
   },
   "outputs": [
    {
     "name": "stdout",
     "output_type": "stream",
     "text": [
      "Epoch 1/50\n",
      "157/157 [==============================] - 15s 71ms/step - loss: 14758.6084 - val_loss: 2179.1125\n",
      "Epoch 2/50\n",
      "157/157 [==============================] - 11s 69ms/step - loss: 1426.9584 - val_loss: 935.2094\n",
      "Epoch 3/50\n",
      "157/157 [==============================] - 11s 70ms/step - loss: 936.9624 - val_loss: 576.8968\n",
      "Epoch 4/50\n",
      "157/157 [==============================] - 11s 70ms/step - loss: 483.0316 - val_loss: 432.0533\n",
      "Epoch 5/50\n",
      "157/157 [==============================] - 11s 70ms/step - loss: 372.8530 - val_loss: 336.7756\n",
      "Epoch 6/50\n",
      "157/157 [==============================] - 11s 70ms/step - loss: 395.7571 - val_loss: 228.5179\n",
      "Epoch 7/50\n",
      "157/157 [==============================] - 11s 71ms/step - loss: 219.4834 - val_loss: 187.0056\n",
      "Epoch 8/50\n",
      "157/157 [==============================] - 11s 71ms/step - loss: 193.9772 - val_loss: 156.4915\n",
      "Epoch 9/50\n",
      "157/157 [==============================] - 11s 71ms/step - loss: 161.9327 - val_loss: 127.3643\n",
      "Epoch 10/50\n",
      "157/157 [==============================] - 11s 71ms/step - loss: 237.7114 - val_loss: 114.3615\n",
      "Epoch 11/50\n",
      "157/157 [==============================] - 11s 71ms/step - loss: 102.0222 - val_loss: 93.9544: 102.1\n",
      "Epoch 12/50\n",
      "157/157 [==============================] - 11s 71ms/step - loss: 94.0313 - val_loss: 98.9447\n",
      "Epoch 13/50\n",
      "157/157 [==============================] - 11s 71ms/step - loss: 84.8740 - val_loss: 68.4124\n",
      "Epoch 14/50\n",
      "157/157 [==============================] - 11s 71ms/step - loss: 77.6093 - val_loss: 114.5737\n",
      "Epoch 15/50\n",
      "157/157 [==============================] - 11s 71ms/step - loss: 115.6394 - val_loss: 55.4327ETA: 0s - loss: 1\n",
      "Epoch 16/50\n",
      "157/157 [==============================] - 11s 72ms/step - loss: 53.8839 - val_loss: 45.6328\n",
      "Epoch 17/50\n",
      "157/157 [==============================] - 11s 72ms/step - loss: 80.4142 - val_loss: 69.0648\n",
      "Epoch 18/50\n",
      "157/157 [==============================] - 11s 72ms/step - loss: 43.6363 - val_loss: 36.4876\n",
      "Epoch 19/50\n",
      "157/157 [==============================] - 11s 72ms/step - loss: 39.0162 - val_loss: 33.6661\n",
      "Epoch 20/50\n",
      "157/157 [==============================] - 11s 72ms/step - loss: 36.3761 - val_loss: 37.7243\n",
      "Epoch 21/50\n",
      "157/157 [==============================] - 11s 72ms/step - loss: 34.2865 - val_loss: 72.7054\n",
      "Epoch 22/50\n",
      "157/157 [==============================] - 12s 75ms/step - loss: 54.4905 - val_loss: 25.2453\n",
      "Epoch 23/50\n",
      "157/157 [==============================] - 12s 79ms/step - loss: 25.9730 - val_loss: 36.1354\n",
      "Epoch 24/50\n",
      "157/157 [==============================] - 12s 79ms/step - loss: 58.4442 - val_loss: 24.7734\n",
      "Epoch 25/50\n",
      "157/157 [==============================] - 12s 79ms/step - loss: 21.1876 - val_loss: 18.8423\n",
      "Epoch 26/50\n",
      "157/157 [==============================] - 12s 79ms/step - loss: 19.0975 - val_loss: 16.7436\n",
      "Epoch 27/50\n",
      "157/157 [==============================] - 13s 82ms/step - loss: 18.9063 - val_loss: 18.4765\n",
      "Epoch 28/50\n",
      "157/157 [==============================] - 14s 86ms/step - loss: 50.3714 - val_loss: 20.1171\n",
      "Epoch 29/50\n",
      "157/157 [==============================] - 14s 87ms/step - loss: 15.4517 - val_loss: 13.2186\n",
      "Epoch 30/50\n",
      "157/157 [==============================] - 14s 86ms/step - loss: 12.8151 - val_loss: 11.8193TA: 2s - loss: 12.77 - ETA - ETA:  - ETA: 1s - loss: 12. - ETA: 1s - loss: 12. - ETA: 1s\n",
      "Epoch 31/50\n",
      "157/157 [==============================] - 14s 86ms/step - loss: 12.1184 - val_loss: 12.5682\n",
      "Epoch 32/50\n",
      "157/157 [==============================] - 13s 86ms/step - loss: 11.6730 - val_loss: 10.8732\n",
      "Epoch 33/50\n",
      "157/157 [==============================] - 13s 86ms/step - loss: 10.8286 - val_loss: 13.6281\n",
      "Epoch 34/50\n",
      "157/157 [==============================] - 13s 86ms/step - loss: 10.1945 - val_loss: 8.1808\n",
      "Epoch 35/50\n",
      "157/157 [==============================] - 13s 86ms/step - loss: 9.8205 - val_loss: 8.3798\n",
      "Epoch 36/50\n",
      "157/157 [==============================] - 14s 86ms/step - loss: 27.5738 - val_loss: 8.8135\n",
      "Epoch 37/50\n",
      "157/157 [==============================] - 14s 86ms/step - loss: 7.7390 - val_loss: 8.0806\n",
      "Epoch 38/50\n",
      "157/157 [==============================] - 13s 86ms/step - loss: 10.1972 - val_loss: 10.1971\n",
      "Epoch 39/50\n",
      "157/157 [==============================] - 14s 86ms/step - loss: 10.2338 - val_loss: 6.0446s - loss: 10.\n",
      "Epoch 40/50\n",
      "157/157 [==============================] - 14s 86ms/step - loss: 5.8174 - val_loss: 5.3185\n",
      "Epoch 41/50\n",
      "157/157 [==============================] - 14s 86ms/step - loss: 5.8225 - val_loss: 5.2580\n",
      "Epoch 42/50\n",
      "157/157 [==============================] - 13s 86ms/step - loss: 5.7268 - val_loss: 4.5720 - ETA: 1s - ETA: 0s\n",
      "Epoch 43/50\n",
      "157/157 [==============================] - 14s 86ms/step - loss: 6.1376 - val_loss: 4.8821\n",
      "Epoch 44/50\n",
      "157/157 [==============================] - 14s 86ms/step - loss: 5.2028 - val_loss: 41.0626\n",
      "Epoch 45/50\n",
      "157/157 [==============================] - 14s 86ms/step - loss: 9.9727 - val_loss: 4.2396\n",
      "Epoch 46/50\n",
      "157/157 [==============================] - 14s 87ms/step - loss: 4.3526 - val_loss: 3.8070\n",
      "Epoch 47/50\n",
      "157/157 [==============================] - 14s 86ms/step - loss: 4.3532 - val_loss: 11.2387\n",
      "Epoch 48/50\n",
      "157/157 [==============================] - 14s 86ms/step - loss: 9.7635 - val_loss: 3.4899\n",
      "Epoch 49/50\n",
      "157/157 [==============================] - 60s 386ms/step - loss: 3.4511 - val_loss: 3.3362\n",
      "Epoch 50/50\n",
      "157/157 [==============================] - 80s 513ms/step - loss: 3.5533 - val_loss: 2.8342\n"
     ]
    },
    {
     "data": {
      "text/plain": [
       "<tensorflow.python.keras.callbacks.History at 0x13d46fbdd30>"
      ]
     },
     "execution_count": 42,
     "metadata": {},
     "output_type": "execute_result"
    }
   ],
   "source": [
    "model.fit(ds_train, epochs = 50, validation_data=ds_test)"
   ]
  },
  {
   "cell_type": "code",
   "execution_count": 92,
   "id": "a7e80a98",
   "metadata": {},
   "outputs": [
    {
     "data": {
      "image/png": "[encoded data removed]",
      "text/plain": [
       "<Figure size 432x288 with 1 Axes>"
      ]
     },
     "metadata": {
      "needs_background": "light"
     },
     "output_type": "display_data"
    }
   ],
   "source": [
    "plt.imshow(model(next(iter(ds_train))[0])[0], cmap = 'binary_r')\n",
    "plt.axis('off')\n",
    "plt.show()"
   ]
  },
  {
   "cell_type": "code",
   "execution_count": null,
   "id": "a32208b2",
   "metadata": {},
   "outputs": [],
   "source": []
  }
 ],
 "metadata": {
  "kernelspec": {
   "display_name": "Python 3 (ipykernel)",
   "language": "python",
   "name": "python3"
  },
  "language_info": {
   "codemirror_mode": {
    "name": "ipython",
    "version": 3
   },
   "file_extension": ".py",
   "mimetype": "text/x-python",
   "name": "python",
   "nbconvert_exporter": "python",
   "pygments_lexer": "ipython3",
   "version": "3.9.5"
  }
 },
 "nbformat": 4,
 "nbformat_minor": 5
}
