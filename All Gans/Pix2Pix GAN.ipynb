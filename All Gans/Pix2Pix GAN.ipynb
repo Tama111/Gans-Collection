{
 "cells": [
  {
   "cell_type": "markdown",
   "id": "51a134bd",
   "metadata": {},
   "source": [
    "# Pix2Pix - Image Translation\n",
    "\n",
    "This is an attempt to re-implement the paper Pix2pix-GAN\n",
    "\n",
    "Paper: https://arxiv.org/pdf/1611.07004.pdf"
   ]
  },
  {
   "cell_type": "code",
   "execution_count": 1,
   "id": "d767e2b5",
   "metadata": {},
   "outputs": [],
   "source": [
    "import glob\n",
    "import numpy as np\n",
    "import tensorflow as tf"
   ]
  },
  {
   "cell_type": "code",
   "execution_count": 2,
   "id": "79d46080",
   "metadata": {},
   "outputs": [],
   "source": [
    "image_size = 256\n",
    "channels = 3\n",
    "num_images = 800 # 3200\n",
    "batch_size = 16"
   ]
  },
  {
   "cell_type": "code",
   "execution_count": 3,
   "id": "fe9c99ec",
   "metadata": {},
   "outputs": [],
   "source": [
    "def load_images(image_path):\n",
    "    \n",
    "    images = tf.io.read_file(image_path)\n",
    "    images = tf.image.decode_jpeg(images, channels = channels)\n",
    "    \n",
    "    images = tf.image.resize(images, [256, 512], method = tf.image.ResizeMethod.NEAREST_NEIGHBOR)\n",
    "    \n",
    "    inp_images, tar_images = images[:, 256:, :], images[:, :256, :]\n",
    "    \n",
    "    inp_images = tf.cast(inp_images, tf.float32)\n",
    "    tar_images = tf.cast(tar_images, tf.float32)\n",
    "    \n",
    "    inp_images = (inp_images/127.5) - 1\n",
    "    tar_images = (tar_images/127.5) - 1\n",
    "    \n",
    "    inp_images = tf.image.resize(inp_images, [image_size, image_size], method = tf.image.ResizeMethod.NEAREST_NEIGHBOR)\n",
    "    tar_images = tf.image.resize(tar_images, [image_size, image_size], method = tf.image.ResizeMethod.NEAREST_NEIGHBOR)\n",
    "    \n",
    "    return inp_images, tar_images\n",
    "\n",
    "\n",
    "def load_data(path, num_images = num_images):\n",
    "    data_list = glob.glob(path)[:num_images]\n",
    "    \n",
    "    data = tf.data.Dataset.list_files(data_list)\n",
    "    data = data.map(load_images)\n",
    "    data = data.shuffle(num_images).batch(batch_size)\n",
    "    return data"
   ]
  },
  {
   "cell_type": "code",
   "execution_count": 4,
   "id": "41efd28b",
   "metadata": {},
   "outputs": [],
   "source": [
    "DIR = 'E:\\Image Datasets\\Pix2Pix Anime\\Datasets\\data'\n",
    "train_data = load_data(DIR + '\\\\train\\\\*.png')\n",
    "test_data = load_data(DIR + '\\\\val\\\\*.png', 200)"
   ]
  },
  {
   "cell_type": "code",
   "execution_count": null,
   "id": "5db996c7",
   "metadata": {},
   "outputs": [],
   "source": []
  },
  {
   "cell_type": "code",
   "execution_count": 5,
   "id": "df331013",
   "metadata": {},
   "outputs": [],
   "source": [
    "class Pix2Pix(object):\n",
    "    def __init__(self, image_size, channels):\n",
    "        self.init = tf.random_normal_initializer(0, 0.02)\n",
    "        self.image_shape = (image_size, image_size, channels)\n",
    "        \n",
    "    def encoder(self, inp, filters, kernel_size = (3, 3), batch_norm = True):\n",
    "        \n",
    "        x = tf.keras.layers.Conv2D(filters = filters, kernel_size = kernel_size, strides = (2, 2), \n",
    "                                   padding = 'same', kernel_initializer = self.init, use_bias = True)(inp)\n",
    "        \n",
    "        if batch_norm:\n",
    "            x = tf.keras.layers.BatchNormalization()(x)\n",
    "            \n",
    "        x = tf.keras.layers.LeakyReLU(alpha = 0.2)(x)\n",
    "        return x\n",
    "    \n",
    "    def decoder(self, inp, skip, filters, kernel_size = (3, 3), dropout = 0):\n",
    "        \n",
    "        x = tf.keras.layers.Conv2DTranspose(filters = filters, kernel_size = kernel_size, strides = (2, 2), \n",
    "                                            padding = 'same', kernel_initializer = self.init, use_bias = True)(inp)\n",
    "        x = tf.keras.layers.BatchNormalization()(x)\n",
    "        \n",
    "        if dropout != 0:\n",
    "            x = tf.keras.layers.Dropout(dropout)(x)\n",
    "            \n",
    "        x = tf.keras.layers.ReLU()(x)\n",
    "        x = tf.keras.layers.Concatenate()([x, skip])\n",
    "        return x\n",
    "    \n",
    "    \n",
    "class Generator(Pix2Pix):\n",
    "    def __init__(self, image_size, channels):\n",
    "        super().__init__(image_size, channels)\n",
    "        pass\n",
    "    \n",
    "    def generator(self):\n",
    "        \n",
    "        inputs = tf.keras.layers.Input(shape = self.image_shape)\n",
    "        \n",
    "        x = inputs\n",
    "        \n",
    "        e1 = self.encoder(x, 64, batch_norm = False)\n",
    "        e2 = self.encoder(e1, 128)\n",
    "        e3 = self.encoder(e2, 256)\n",
    "        e4 = self.encoder(e3, 512)\n",
    "        e5 = self.encoder(e4, 512)\n",
    "        e6 = self.encoder(e5, 512)\n",
    "        e7 = self.encoder(e6, 512)\n",
    "        \n",
    "        b = self.encoder(e7, 512)\n",
    "        \n",
    "        d1 = self.decoder(b, e7, 512)\n",
    "        d2 = self.decoder(d1, e6, 512)\n",
    "        d3 = self.decoder(d2, e5, 512)\n",
    "        d4 = self.decoder(d3, e4, 512)\n",
    "        d5 = self.decoder(d4, e3, 256)\n",
    "        d6 = self.decoder(d5, e2, 128)\n",
    "        d7 = self.decoder(d6, e1, 64)\n",
    "        \n",
    "        x = tf.keras.layers.Conv2DTranspose(filters = 3, kernel_size = (3, 3), strides = (2, 2), \n",
    "                                            padding = 'same', kernel_initializer = self.init, use_bias = True, \n",
    "                                            activation = 'tanh')(d7)\n",
    "        x = tf.keras.layers.BatchNormalization()(x)\n",
    "        \n",
    "        return tf.keras.Model(inputs = inputs, outputs = x, name = 'pix2pix_generator')\n",
    "    \n",
    "    \n",
    "class Discriminator(Pix2Pix):\n",
    "    def __init__(self, image_size, channels):\n",
    "        super().__init__(image_size, channels)\n",
    "        pass\n",
    "    \n",
    "    def discriminator(self):\n",
    "        inp_images = tf.keras.layers.Input(shape = self.image_shape, name = 'input_image')\n",
    "        tar_images = tf.keras.layers.Input(shape = self.image_shape, name = 'target_image')\n",
    "        \n",
    "        x = tf.keras.layers.Concatenate()([inp_images, tar_images])\n",
    "        \n",
    "        x = self.encoder(x, 64)\n",
    "        x = self.encoder(x, 128)\n",
    "        x = self.encoder(x, 256)\n",
    "        \n",
    "        x = tf.keras.layers.Conv2D(filters = 1, kernel_size = (3, 3), strides = (1, 1), \n",
    "                                   padding = 'valid', kernel_initializer = self.init, use_bias = True)(x)\n",
    "        \n",
    "        return tf.keras.Model(inputs = [inp_images, tar_images], outputs = x, name = 'pix2pix_discriminator')\n",
    "\n",
    "    \n",
    "gen = Generator(image_size, channels).generator()\n",
    "disc = Discriminator(image_size, channels).discriminator()"
   ]
  },
  {
   "cell_type": "code",
   "execution_count": 6,
   "id": "0948310f",
   "metadata": {
    "scrolled": true
   },
   "outputs": [],
   "source": [
    "class Losses(object):\n",
    "    def __init__(self):\n",
    "        self.loss_object = tf.keras.losses.BinaryCrossentropy(from_logits = True)\n",
    "        self.LAMBDA = 100\n",
    "        \n",
    "    def discriminator_loss(self, disc_real_out, disc_gen_out):\n",
    "        real_loss = self.loss_object(tf.ones_like(disc_real_out), disc_real_out)\n",
    "        gen_loss = self.loss_object(tf.zeros_like(disc_gen_out), disc_gen_out)\n",
    "        return real_loss + gen_loss\n",
    "    \n",
    "    def generator_loss(self, disc_gen_out, gen_out, target):\n",
    "        gen_loss = self.loss_object(tf.ones_like(disc_gen_out), disc_gen_out)\n",
    "        l1_loss = tf.math.reduce_mean(tf.math.abs(target - gen_out)) * self.LAMBDA\n",
    "        return gen_loss + l1_loss\n",
    "    \n",
    "l = Losses()"
   ]
  },
  {
   "cell_type": "code",
   "execution_count": 7,
   "id": "2e9a23e2",
   "metadata": {},
   "outputs": [],
   "source": [
    "gen_optimizer = tf.keras.optimizers.Adam(learning_rate = 2e-4, beta_1 = 0.5)\n",
    "disc_optimizer = tf.keras.optimizers.Adam(learning_rate = 2e-4, beta_1 = 0.5)"
   ]
  },
  {
   "cell_type": "code",
   "execution_count": 8,
   "id": "8162a086",
   "metadata": {},
   "outputs": [],
   "source": [
    "@tf.function\n",
    "def train_step(inp, tar):\n",
    "    \n",
    "    with tf.GradientTape() as gen_tape, tf.GradientTape() as disc_tape:\n",
    "        gen_out = gen(inp, training = True)\n",
    "        \n",
    "        disc_real_out = disc([inp, tar], training = True)\n",
    "        disc_gen_out = disc([inp, gen_out], training = True)\n",
    "        \n",
    "        disc_loss = l.discriminator_loss(disc_real_out, disc_gen_out)\n",
    "        gen_loss = l.generator_loss(disc_gen_out, gen_out, tar)\n",
    "        \n",
    "    gen_grads = gen_tape.gradient(gen_loss, gen.trainable_variables)\n",
    "    disc_grads = disc_tape.gradient(disc_loss, disc.trainable_variables)\n",
    "    \n",
    "    gen_optimizer.apply_gradients(zip(gen_grads, gen.trainable_variables))\n",
    "    disc_optimizer.apply_gradients(zip(disc_grads, disc.trainable_variables))\n",
    "    \n",
    "    return disc_loss, gen_loss"
   ]
  },
  {
   "cell_type": "code",
   "execution_count": 9,
   "id": "1418c82e",
   "metadata": {},
   "outputs": [],
   "source": [
    "def train(data, epochs = 1):\n",
    "    for e in range(epochs):\n",
    "        print(f'Epoch: {e} Starts')\n",
    "        \n",
    "        for inp, tar in data:\n",
    "            disc_loss, gen_loss = train_step(inp, tar)\n",
    "            print('.', end='')\n",
    "            \n",
    "        print(f'\\nGenerator Loss: {gen_loss} \\t Discriminator Loss: {disc_loss}')\n",
    "        print(f'Epoch: {e} Ends\\n\\n\\n')"
   ]
  },
  {
   "cell_type": "code",
   "execution_count": 10,
   "id": "08520fcd",
   "metadata": {},
   "outputs": [
    {
     "name": "stdout",
     "output_type": "stream",
     "text": [
      "Epoch: 0 Starts\n",
      "..................................................\n",
      "Generator Loss: 75.62659454345703 \t Discriminator Loss: 0.5931085348129272\n",
      "Epoch: 0 Ends\n",
      "\n",
      "\n",
      "\n"
     ]
    }
   ],
   "source": [
    "train(train_data)"
   ]
  },
  {
   "cell_type": "code",
   "execution_count": null,
   "id": "e409c512",
   "metadata": {},
   "outputs": [],
   "source": []
  },
  {
   "cell_type": "code",
   "execution_count": null,
   "id": "f347f06e",
   "metadata": {},
   "outputs": [],
   "source": []
  }
 ],
 "metadata": {
  "kernelspec": {
   "display_name": "Python 3 (ipykernel)",
   "language": "python",
   "name": "python3"
  },
  "language_info": {
   "codemirror_mode": {
    "name": "ipython",
    "version": 3
   },
   "file_extension": ".py",
   "mimetype": "text/x-python",
   "name": "python",
   "nbconvert_exporter": "python",
   "pygments_lexer": "ipython3",
   "version": "3.9.5"
  }
 },
 "nbformat": 4,
 "nbformat_minor": 5
}
